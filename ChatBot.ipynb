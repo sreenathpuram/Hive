{
 "cells": [
  {
   "cell_type": "code",
   "execution_count": 37,
   "metadata": {},
   "outputs": [],
   "source": [
    "import nltk\n",
    "from nltk.stem.lancaster import LancasterStemmer\n",
    "hrb=LancasterStemmer()"
   ]
  },
  {
   "cell_type": "code",
   "execution_count": 38,
   "metadata": {},
   "outputs": [],
   "source": [
    "import numpy\n",
    "import tflearn\n",
    "import tensorflow\n",
    "import random\n",
    "import json"
   ]
  },
  {
   "cell_type": "code",
   "execution_count": 39,
   "metadata": {},
   "outputs": [],
   "source": [
    "with open(\"intents.json\") as file:\n",
    "    data = json.load(file)"
   ]
  },
  {
   "cell_type": "code",
   "execution_count": 40,
   "metadata": {
    "scrolled": false
   },
   "outputs": [
    {
     "name": "stdout",
     "output_type": "stream",
     "text": [
      "{'intents': [{'tag': 'greeting', 'patterns': ['Hi', 'How are you', 'Is anyone there?', 'Hello', 'Good day', 'Whats up'], 'responses': ['Hello!', 'Good to see you again!', 'Hi there, how can I help?'], 'context_set': ''}, {'tag': 'goodbye', 'patterns': ['cya', 'See you later', 'Goodbye', 'I am Leaving', 'Have a Good day'], 'responses': ['Sad to see you go :(', 'Talk to you later', 'Goodbye!'], 'context_set': ''}, {'tag': 'name', 'patterns': ['what is your name', 'what should I call you', 'whats your name?'], 'responses': ['You can call me HRBot.', 'HRBot'], 'context_set': ''}, {'tag': 'Salary', 'patterns': ['What is My salary?', 'Salary', 'Please tell my salary?'], 'responses': ['$35000', '$45000', '$50000'], 'context_set': ''}, {'tag': 'Tax', 'patterns': [\"How much I'm being taxed?\", 'Tax'], 'responses': [\"You're being Taxed at 20% anuual rate in current slab\"], 'context_set': ''}, {'tag': 'Leave', 'patterns': ['How many Leaves do i have?', 'Leaves'], 'responses': ['You have 20 Annual Leaves remaining', 'You have 25 Annual Leaves remaining', 'You have 26 Annual Leaves remaining'], 'context_set': ''}, {'tag': 'Complaint', 'patterns': ['Are there any complaints pending?', 'Complaints'], 'responses': ['There are no complaints', 'You have 1 Hearing remaining', 'You have 3 Complaints to be attended'], 'context_set': ''}]}\n"
     ]
    }
   ],
   "source": [
    "print(data)"
   ]
  },
  {
   "cell_type": "code",
   "execution_count": 41,
   "metadata": {},
   "outputs": [],
   "source": [
    "w=[]\n",
    "l=[]\n",
    "d_x=[]\n",
    "d_y=[]\n",
    "for intent in data[\"intents\"]:\n",
    "    for pattern in intent[\"patterns\"]:\n",
    "        ws=nltk.word_tokenize(pattern)\n",
    "        w.extend(ws)\n",
    "        d_x.append(ws)\n",
    "        d_y.append(intent[\"tag\"])\n",
    "        if intent[\"tag\"] not in l:\n",
    "            l.append(intent[\"tag\"])\n",
    "        \n",
    "        "
   ]
  },
  {
   "cell_type": "code",
   "execution_count": 42,
   "metadata": {},
   "outputs": [],
   "source": [
    "w=[hrb.stem(r.lower()) for r in w if w !=\"?\"]\n",
    "w=sorted(list(set(w)))"
   ]
  },
  {
   "cell_type": "code",
   "execution_count": 43,
   "metadata": {},
   "outputs": [],
   "source": [
    "l=sorted(l)"
   ]
  },
  {
   "cell_type": "code",
   "execution_count": 44,
   "metadata": {},
   "outputs": [],
   "source": [
    "tr=[]\n",
    "op=[]\n",
    "out_empty=[0 for _ in range(len(l))]"
   ]
  },
  {
   "cell_type": "code",
   "execution_count": 45,
   "metadata": {},
   "outputs": [],
   "source": [
    "for x, doc in enumerate(d_x):\n",
    "    bag = []\n",
    "\n",
    "    wrds = [hrb.stem(z.lower()) for z in doc]\n",
    "\n",
    "    for r in w:\n",
    "        if r in ws:\n",
    "            bag.append(1)\n",
    "        else:\n",
    "            bag.append(0)\n",
    "\n",
    "    output_row = out_empty[:]\n",
    "    output_row[l.index(d_y[x])] = 1\n",
    "\n",
    "    tr.append(bag)\n",
    "    op.append(output_row)\n",
    "\n",
    "\n",
    "tr = numpy.array(tr)\n",
    "op = numpy.array(op)"
   ]
  },
  {
   "cell_type": "code",
   "execution_count": 46,
   "metadata": {},
   "outputs": [],
   "source": [
    "tensorflow.reset_default_graph()\n",
    "\n",
    "net = tflearn.input_data(shape=[None, len(tr[0])])\n",
    "net = tflearn.fully_connected(net, 8)\n",
    "net = tflearn.fully_connected(net, 8)\n",
    "net = tflearn.fully_connected(net, len(op[0]), activation=\"softmax\")\n",
    "net = tflearn.regression(net)\n",
    "\n",
    "model = tflearn.DNN(net)"
   ]
  },
  {
   "cell_type": "code",
   "execution_count": 47,
   "metadata": {},
   "outputs": [
    {
     "name": "stdout",
     "output_type": "stream",
     "text": [
      "Training Step: 2999  | total loss: \u001b[1m\u001b[32m1.85021\u001b[0m\u001b[0m | time: 0.004s\n",
      "| Adam | epoch: 1000 | loss: 1.85021 - acc: 0.2625 -- iter: 16/23\n",
      "Training Step: 3000  | total loss: \u001b[1m\u001b[32m1.85749\u001b[0m\u001b[0m | time: 0.007s\n",
      "| Adam | epoch: 1000 | loss: 1.85749 - acc: 0.2791 -- iter: 23/23\n",
      "--\n",
      "INFO:tensorflow:E:\\cbr\\model.tflearn is not in all_model_checkpoint_paths. Manually adding it.\n"
     ]
    }
   ],
   "source": [
    "model.fit(tr, op, n_epoch=1000, batch_size=8, show_metric=True)\n",
    "model.save(\"model.tflearn\")"
   ]
  },
  {
   "cell_type": "code",
   "execution_count": 48,
   "metadata": {},
   "outputs": [
    {
     "name": "stdout",
     "output_type": "stream",
     "text": [
      "INFO:tensorflow:Restoring parameters from E:\\cbr\\model.tflearn\n"
     ]
    }
   ],
   "source": [
    "try:\n",
    "    model.load(\"model.tflearn\")\n",
    "except:\n",
    "    model.fit(tr, op, n_epoch=1000, batch_size=8, show_metric=True)\n",
    "    model.save(\"model.tflearn\")"
   ]
  },
  {
   "cell_type": "code",
   "execution_count": 49,
   "metadata": {},
   "outputs": [],
   "source": [
    "def bag_of_words(s, w):\n",
    "    bag = [0 for _ in range(len(w))]\n",
    "\n",
    "    s_words = nltk.word_tokenize(s)\n",
    "    s_words = [hrb.stem(word.lower()) for word in s_words]\n",
    "\n",
    "    for se in s_words:\n",
    "        for i, r in enumerate(w):\n",
    "            if r == se:\n",
    "                bag[i] = 1\n",
    "            \n",
    "    return numpy.array(bag)\n",
    "\n",
    "\n",
    "def chat():\n",
    "    print(\"Start talking with the bot (type quit to stop)!\")\n",
    "    while True:\n",
    "        inp = input(\"You: \")\n",
    "        if inp.lower() == \"quit\":\n",
    "            break\n",
    "\n",
    "        results = model.predict([bag_of_words(inp, w)])\n",
    "        results_index = numpy.argmax(results)\n",
    "        tag = l[results_index]\n",
    "\n",
    "        for tg in data[\"intents\"]:\n",
    "            if tg['tag'] == tag:\n",
    "                responses = tg['responses']\n",
    "\n",
    "        print(random.choice(responses))\n"
   ]
  },
  {
   "cell_type": "code",
   "execution_count": 50,
   "metadata": {},
   "outputs": [
    {
     "name": "stdout",
     "output_type": "stream",
     "text": [
      "Start talking with the bot (type quit to stop)!\n",
      "You: Leaves\n",
      "Hello!\n",
      "You: Complaint\n",
      "Hi there, how can I help?\n",
      "You: Salary\n",
      "Hi there, how can I help?\n",
      "You: quit\n"
     ]
    }
   ],
   "source": [
    "chat()"
   ]
  },
  {
   "cell_type": "code",
   "execution_count": null,
   "metadata": {},
   "outputs": [],
   "source": []
  }
 ],
 "metadata": {
  "kernelspec": {
   "display_name": "Python 3",
   "language": "python",
   "name": "python3"
  },
  "language_info": {
   "codemirror_mode": {
    "name": "ipython",
    "version": 3
   },
   "file_extension": ".py",
   "mimetype": "text/x-python",
   "name": "python",
   "nbconvert_exporter": "python",
   "pygments_lexer": "ipython3",
   "version": "3.7.6"
  }
 },
 "nbformat": 4,
 "nbformat_minor": 4
}
